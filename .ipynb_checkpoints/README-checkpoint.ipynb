{
 "cells": [
  {
   "cell_type": "markdown",
   "id": "useful-chassis",
   "metadata": {},
   "source": [
    "# Green Taxi\n",
    "This project is dealing with dataset provided in this [link](https://www1.nyc.gov/site/tlc/about/tlc-trip-record-data.page) about green taxi trip records include fields capturing pick-up and drop-off dates/ties, and other interesting information.  \n",
    "\n",
    "The data used is of the month February, 2016 and it took place in NYC.\n",
    "\n",
    "## Explore\n",
    "### Data\n",
    "green_tripdata_2016-02.csv: original data downloaded\n",
    "green_taxi_clean.csv: cleaned version of the original data\n",
    "\n",
    "\n",
    "## Files\n",
    "### wrangle_act\n",
    "Three processes take place in this file.  \n",
    "1. Gather  \n",
    "Collecting packages needed for cleaning process and the data.  \n",
    "\n",
    "2. Assess  \n",
    "Practicing visual exploration of the data defining the points that might be problems performing the data analysis. This step addresses quality and tidiness issues.  \n",
    "\n",
    "3. Clean  \n",
    "Applying different techniques to deal with issues stated in the Assess process in regards of quality and tidiness of the data before moving forward with the data analysis.  \n",
    "\n",
    "### explanatory_data_analysis\n",
    "It contains two main parts  \n",
    "1. Data Preparation  \n",
    "It is a complementary step to the cleaning process. Further steps were taken to have polished and understandable graphs.   \n",
    "\n",
    "2. Questions\n",
    "This part contains answering questions asked to give a clear answers.  \n",
    "Note: More data about NYC's neighbourhoods was collected.  \n",
    "\n",
    "### time-series_modeling\n",
    "It contains of three main parts  \n",
    "1. Data Preparation\n",
    "A lot of data preparation was required in order to have it ready for time-series analysis and modeling.  \n",
    "\n",
    "2. Time-Series Analysis  \n",
    "Investigating what type of time-series data it is in order to specify which model will work with it the best. It contains seasonal decomposition, ACF, and PACF.  \n",
    "\n",
    "### Modeling\n",
    "1. Forecasting  \n",
    "a) Using grid search techniques using SARIMA for the different hyperparamaters selection.  \n",
    "Note: The cell containing this step takes long time to run.  \n",
    "After selecting the best AIC and Log Likelihood, the best model would be one degree higher in terms of AR factor.  \n",
    "\n",
    "b) Plotting and analyzing results to ensure residuals normal distribution and non-stationarity.  \n",
    "c) Plotting forecasting vs real points along with confidence interval.\n",
    "\n",
    "2. Evaluating  \n",
    "Using RMSE as the main evaluation metric."
   ]
  }
 ],
 "metadata": {
  "kernelspec": {
   "display_name": "Python 3",
   "language": "python",
   "name": "python3"
  },
  "language_info": {
   "codemirror_mode": {
    "name": "ipython",
    "version": 3
   },
   "file_extension": ".py",
   "mimetype": "text/x-python",
   "name": "python",
   "nbconvert_exporter": "python",
   "pygments_lexer": "ipython3",
   "version": "3.9.1"
  },
  "toc": {
   "base_numbering": 1,
   "nav_menu": {},
   "number_sections": true,
   "sideBar": true,
   "skip_h1_title": false,
   "title_cell": "Table of Contents",
   "title_sidebar": "Contents",
   "toc_cell": false,
   "toc_position": {},
   "toc_section_display": true,
   "toc_window_display": false
  }
 },
 "nbformat": 4,
 "nbformat_minor": 5
}
